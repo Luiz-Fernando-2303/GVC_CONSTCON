{
 "cells": [
  {
   "cell_type": "code",
   "execution_count": null,
   "id": "22373540",
   "metadata": {},
   "outputs": [],
   "source": [
    "import pandas as pd\n",
    "\n",
    "df = pd.read_excel(\"files\\GVC - Padrões Globais.xlsx\")\n",
    "df"
   ]
  },
  {
   "cell_type": "code",
   "execution_count": null,
   "id": "a617aeec",
   "metadata": {},
   "outputs": [],
   "source": [
    "codeTermDict: dict[str, str] = {}\n",
    "\n",
    "for idx, value in df[\"Código\"].items():\n",
    "    parts = value.split()\n",
    "    \n",
    "    while len(parts) < 7:\n",
    "        parts.append(\"00\")\n",
    "    \n",
    "    newValue = \"-\".join(parts)  # '3E-02-00-00-00-00-00'\n",
    "\n",
    "    term = df.at[idx, \"Termo\"]\n",
    "    codeTermDict[newValue] = term\n",
    "\n",
    "import json\n",
    "import os\n",
    "\n",
    "os.makedirs(\"files\", exist_ok=True)\n",
    "file_path = os.path.join(\"files\", \"nested_codes.json\")\n",
    "\n",
    "with open(file_path, \"w\", encoding=\"utf-8\") as f:\n",
    "    json.dump(codeTermDict, f, indent=2, ensure_ascii=False)\n",
    "\n",
    "codeTermDict"
   ]
  },
  {
   "cell_type": "code",
   "execution_count": null,
   "id": "5c9a384b",
   "metadata": {},
   "outputs": [],
   "source": [
    "import re\n",
    "from typing import List\n",
    "from Types import GvcObject, Property\n",
    "\n",
    "\n",
    "IGNORED_KEYWORDS = [\n",
    "    \"id\", \"guid\", \"handle\", \"path\", \"element\", \"category id\", \"family id\",\n",
    "    \"internal\", \"level\", \"host\", \"parameter id\", \"unique id\"\n",
    "]\n",
    "\n",
    "NUMERIC_PATTERN = re.compile(r\"^\\d+([.,]\\d+)?$\")\n",
    "\n",
    "\n",
    "def is_useful_property(prop: Property) -> bool:\n",
    "    if not prop or not prop.Info:\n",
    "        return False\n",
    "\n",
    "    if len(prop.Info.strip()) < 3:\n",
    "        return False\n",
    "\n",
    "    if NUMERIC_PATTERN.match(prop.Info.strip()):\n",
    "        return False\n",
    "\n",
    "    name = (prop.Name or \"\").lower()\n",
    "    cat = (prop.Category or \"\").lower()\n",
    "    if any(kw in name for kw in IGNORED_KEYWORDS):\n",
    "        return False\n",
    "    if any(kw in cat for kw in IGNORED_KEYWORDS):\n",
    "        return False\n",
    "\n",
    "    return True\n",
    "\n",
    "\n",
    "def extract_useful_properties(items: List[GvcObject]) -> List[dict]:\n",
    "    results = []\n",
    "\n",
    "    for obj in items:\n",
    "        useful_props = [p for p in obj.Properties if is_useful_property(p)]\n",
    "\n",
    "        if useful_props:\n",
    "            results.append({\n",
    "                \"object_id\": obj.ObjectId,\n",
    "                \"name\": obj.Name,\n",
    "                \"type\": obj.Type,\n",
    "                \"source\": obj.SourceFile,\n",
    "                \"useful_properties\": [p.__todict__() for p in useful_props]\n",
    "            })\n",
    "\n",
    "    return results\n"
   ]
  },
  {
   "cell_type": "code",
   "execution_count": null,
   "id": "719e3698",
   "metadata": {},
   "outputs": [],
   "source": [
    "from Db import *\n",
    "\n",
    "items = DBManager._getItems(limit=10000)"
   ]
  }
 ],
 "metadata": {
  "kernelspec": {
   "display_name": "Python 3",
   "language": "python",
   "name": "python3"
  },
  "language_info": {
   "codemirror_mode": {
    "name": "ipython",
    "version": 3
   },
   "file_extension": ".py",
   "mimetype": "text/x-python",
   "name": "python",
   "nbconvert_exporter": "python",
   "pygments_lexer": "ipython3",
   "version": "3.13.7"
  }
 },
 "nbformat": 4,
 "nbformat_minor": 5
}
